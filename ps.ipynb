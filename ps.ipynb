{
 "cells": [
  {
   "cell_type": "code",
   "execution_count": 69,
   "id": "4eca955e-007c-4dff-baee-d503bb00118a",
   "metadata": {},
   "outputs": [],
   "source": [
    "import numpy as np\n",
    "import healpy as hp\n",
    "import pandas as pd\n",
    "import matplotlib.pyplot as plt\n",
    "import tools\n",
    "from IPython.core.interactiveshell import InteractiveShell\n",
    "InteractiveShell.ast_node_interactivity = \"all\"\n",
    "from math import pi\n",
    "from pixell import enmap, curvedsky"
   ]
  },
  {
   "cell_type": "code",
   "execution_count": 66,
   "id": "567c2585-0a80-45bd-9d34-443fe7f6669e",
   "metadata": {},
   "outputs": [],
   "source": [
    "ellmax=7000\n",
    "ells = np.arange(0, ellmax+1, 1)\n",
    "ellmin = 200"
   ]
  },
  {
   "cell_type": "markdown",
   "id": "877d81a8-8b1d-42e7-b809-59f794934715",
   "metadata": {},
   "source": [
    "# write WebSky alm"
   ]
  },
  {
   "cell_type": "code",
   "execution_count": 46,
   "id": "a5b29d8e-9275-4680-891f-8efcd033cbab",
   "metadata": {},
   "outputs": [],
   "source": [
    "if 0:\n",
    "    ksz_lt_alm = hp.map2alm(hp.read_map('./maps/websky/ksz.fits'), lmax=ellmax)\n",
    "    hp.write_alm('./maps/websky/ksz_lt_alm.fits', ksz_lt_alm)\n",
    "\n",
    "    ksz_ri_alm = hp.map2alm(hp.read_map('./maps/websky/ksz_patchy.fits'),lmax=ellmax)\n",
    "    hp.write_alm('./maps/websky/ksz_ri_alm.fits', ksz_ri_alm)\n",
    "    \n",
    "    kap_alm = hp.map2alm(hp.read_map('./maps/websky/kap.fits'), lmax=ellmax)\n",
    "    hp.write_alm('./maps/websky/kap_alm.fits', kap_alm)"
   ]
  },
  {
   "cell_type": "markdown",
   "id": "8ca04e65-a1d7-4ef9-bbe3-4f7491364ec7",
   "metadata": {
    "tags": []
   },
   "source": [
    "# write Sehgal alm"
   ]
  },
  {
   "cell_type": "code",
   "execution_count": 80,
   "id": "8988d84f-caea-41cd-8988-40e716a7ae04",
   "metadata": {},
   "outputs": [],
   "source": [
    "if 0:\n",
    "    ksz_lt_alm = hp.map2alm(hp.read_map('./maps/sehgal/148_ksz_healpix_nopell_Nside4096_DeltaT_uK.fits'), lmax=ellmax)\n",
    "    hp.write_alm('./maps/sehgal/ksz_lt_alm.fits', ksz_lt_alm)\n",
    "\n",
    "    kap_alm = hp.map2alm(hp.read_map('./maps/sehgal/healpix_4096_KappaeffLSStoCMBfullsky.fits'), lmax=ellmax)\n",
    "    hp.write_alm('./maps/sehgal/kap_alm.fits', kap_alm)"
   ]
  },
  {
   "cell_type": "markdown",
   "id": "e3d6950f-8870-48b8-ae14-1e0e28164359",
   "metadata": {},
   "source": [
    "# check WebSky and Sehgal kSZ auto_cl and cross_cl"
   ]
  },
  {
   "cell_type": "code",
   "execution_count": 82,
   "id": "38df29af-397b-4654-9165-3183135c3498",
   "metadata": {},
   "outputs": [],
   "source": [
    "# websky\n",
    "ksz_alm_lt = hp.read_alm('./maps/websky/ksz_lt_alm.fits')\n",
    "ksz_alm_ri = hp.read_alm('./maps/websky/ksz_ri_alm.fits')\n",
    "ksz_cl_lt = hp.alm2cl(ksz_alm_lt, lmax=ellmax)\n",
    "ksz_cl_ri = hp.alm2cl(ksz_alm_ri, lmax=ellmax)\n",
    "\n",
    "# sehgal\n",
    "ksz_alm_lt_s = hp.read_alm('./maps/sehgal/ksz_lt_alm.fits')\n",
    "ksz_cl_lt_s = hp.alm2cl(ksz_alm_lt_s, lmax=ellmax)"
   ]
  },
  {
   "cell_type": "code",
   "execution_count": 104,
   "id": "e42188a7-1cc4-4b14-94ee-53ba38582b0e",
   "metadata": {},
   "outputs": [],
   "source": [
    "lensed_alm = hp.read_alm('./maps/websky/lensed_alm.fits')\n",
    "lensed_cl = hp.alm2cl(lensed_alm, lmax=ellmax)"
   ]
  },
  {
   "cell_type": "code",
   "execution_count": 105,
   "id": "257bfb7d-c5c1-43ef-9c03-03e506152114",
   "metadata": {},
   "outputs": [
    {
     "data": {
      "text/plain": [
       "[<matplotlib.lines.Line2D at 0x2aaae9334ad0>]"
      ]
     },
     "execution_count": 105,
     "metadata": {},
     "output_type": "execute_result"
    },
    {
     "data": {
      "text/plain": [
       "[<matplotlib.lines.Line2D at 0x2aaae9342310>]"
      ]
     },
     "execution_count": 105,
     "metadata": {},
     "output_type": "execute_result"
    },
    {
     "data": {
      "text/plain": [
       "[<matplotlib.lines.Line2D at 0x2aaae9342190>]"
      ]
     },
     "execution_count": 105,
     "metadata": {},
     "output_type": "execute_result"
    },
    {
     "data": {
      "text/plain": [
       "[<matplotlib.lines.Line2D at 0x2aaae9342850>]"
      ]
     },
     "execution_count": 105,
     "metadata": {},
     "output_type": "execute_result"
    },
    {
     "data": {
      "text/plain": [
       "<matplotlib.legend.Legend at 0x2aaae9342d10>"
      ]
     },
     "execution_count": 105,
     "metadata": {},
     "output_type": "execute_result"
    },
    {
     "data": {
      "text/plain": [
       "Text(0.5, 0, '$\\\\ell$')"
      ]
     },
     "execution_count": 105,
     "metadata": {},
     "output_type": "execute_result"
    },
    {
     "data": {
      "text/plain": [
       "Text(0, 0.5, '$\\\\ell(\\\\ell+1)/(2\\\\pi)C^{TT}_{\\\\ell} [\\\\mu K^2]$')"
      ]
     },
     "execution_count": 105,
     "metadata": {},
     "output_type": "execute_result"
    },
    {
     "data": {
      "image/png": "[encoded data removed]",
      "text/plain": [
       "<Figure size 432x288 with 1 Axes>"
      ]
     },
     "metadata": {
      "needs_background": "light"
     },
     "output_type": "display_data"
    }
   ],
   "source": [
    "factor = ells*(ells+1)/(2*pi)\n",
    "plt.plot((factor*lensed_cl), label='lensed Cl')\n",
    "plt.plot((factor*ksz_cl_lt)[ellmin:], label='WebSky late-time kSZ')\n",
    "plt.plot((factor*ksz_cl_ri)[ellmin:], label='WebSky reionization kSZ')\n",
    "plt.plot((factor*ksz_cl_lt_s)[ellmin:], label='Sehgal late-time kSZ')\n",
    "\n",
    "plt.legend()\n",
    "plt.yscale('log')\n",
    "plt.xlabel('$\\ell$')\n",
    "plt.ylabel(r'$\\ell(\\ell+1)/(2\\pi)C^{TT}_{\\ell} [\\mu K^2]$')\n",
    "if 0:\n",
    "    plt.savefig('./output/draft_plot/ps.pdf')\n",
    "    plt.savefig('./output/draft_plot/ps.png')"
   ]
  },
  {
   "cell_type": "markdown",
   "id": "79e97f75-35d0-47f1-984b-06572d43ba40",
   "metadata": {},
   "source": [
    "# check WebSky and Sehgal kSZ cross_cl"
   ]
  },
  {
   "cell_type": "code",
   "execution_count": 100,
   "id": "a2fe9e1b-a42b-4c6e-b49c-0c921c61ea53",
   "metadata": {},
   "outputs": [],
   "source": [
    "if 0:\n",
    "    ksz_lt_alm2 = hp.map2alm(hp.read_map('./maps/websky/ksz.fits')**2, lmax=ellmax)\n",
    "    hp.write_alm('./maps/websky/ksz_lt_alm2.fits', ksz_lt_alm2)\n",
    "    \n",
    "    ksz_lt_alm2_s = hp.map2alm(hp.read_map('./maps/sehgal/148_ksz_healpix_nopell_Nside4096_DeltaT_uK.fits')**2, lmax=ellmax)\n",
    "    hp.write_alm('./maps/sehgal/ksz_lt_alm2.fits', ksz_lt_alm2_s)"
   ]
  },
  {
   "cell_type": "code",
   "execution_count": 101,
   "id": "10d72f9a-e38b-444a-b2f4-c514199183e0",
   "metadata": {},
   "outputs": [],
   "source": [
    "# websky cross ps\n",
    "ksz_lt_alm2 = hp.read_alm('./maps/websky/ksz_lt_alm2.fits')\n",
    "kap_alm = hp.read_alm('./maps/websky/kap_alm.fits')\n",
    "cross_ps = hp.alm2cl(ksz_lt_alm2, kap_alm)\n",
    "\n",
    "# sehgal cross ps\n",
    "ksz_lt_alm2_s = hp.read_alm('./maps/sehgal/ksz_lt_alm2.fits')\n",
    "kap_alm_s = hp.read_alm('./maps/sehgal/kap_alm.fits')\n",
    "cross_ps_s = hp.alm2cl(ksz_lt_alm2_s, kap_alm_s)"
   ]
  },
  {
   "cell_type": "code",
   "execution_count": 102,
   "id": "fea4e8bc-1cb3-4d52-b331-9929f3591fcd",
   "metadata": {},
   "outputs": [
    {
     "data": {
      "text/plain": [
       "[<matplotlib.lines.Line2D at 0x2aaae91bfa50>]"
      ]
     },
     "execution_count": 102,
     "metadata": {},
     "output_type": "execute_result"
    },
    {
     "data": {
      "text/plain": [
       "[<matplotlib.lines.Line2D at 0x2aaae91ab290>]"
      ]
     },
     "execution_count": 102,
     "metadata": {},
     "output_type": "execute_result"
    },
    {
     "data": {
      "text/plain": [
       "<matplotlib.legend.Legend at 0x2aaae91abf50>"
      ]
     },
     "execution_count": 102,
     "metadata": {},
     "output_type": "execute_result"
    },
    {
     "data": {
      "text/plain": [
       "Text(0.5, 0, '$\\\\ell$')"
      ]
     },
     "execution_count": 102,
     "metadata": {},
     "output_type": "execute_result"
    },
    {
     "data": {
      "image/png": "[encoded data removed]",
      "text/plain": [
       "<Figure size 432x288 with 1 Axes>"
      ]
     },
     "metadata": {
      "needs_background": "light"
     },
     "output_type": "display_data"
    }
   ],
   "source": [
    "plt.plot((factor*cross_ps)[ellmin:], label='WebSky late-time cross')\n",
    "plt.plot((factor*cross_ps_s)[ellmin:], label='Sehgal late-time cross')\n",
    "plt.legend()\n",
    "plt.yscale('log')\n",
    "plt.xlabel('$\\ell$')\n",
    "if 1:\n",
    "    plt.savefig('./output/draft_plot/cross_ps.pdf')\n",
    "    plt.savefig('./output/draft_plot/cross_ps.png')    "
   ]
  },
  {
   "cell_type": "code",
   "execution_count": 103,
   "id": "09c5baf3-6fc1-494b-b101-c470fe30a836",
   "metadata": {},
   "outputs": [],
   "source": [
    "# bin the curves"
   ]
  },
  {
   "cell_type": "code",
   "execution_count": 106,
   "id": "79eae341-79b5-4d1d-bc47-41af9668efde",
   "metadata": {},
   "outputs": [
    {
     "data": {
      "text/plain": [
       "numpy.ndarray"
      ]
     },
     "execution_count": 106,
     "metadata": {},
     "output_type": "execute_result"
    }
   ],
   "source": [
    "type(cross_ps)"
   ]
  }
 ],
 "metadata": {
  "kernelspec": {
   "display_name": "myenv-jupyter",
   "language": "python",
   "name": "myenv-jupyter"
  },
  "language_info": {
   "codemirror_mode": {
    "name": "ipython",
    "version": 3
   },
   "file_extension": ".py",
   "mimetype": "text/x-python",
   "name": "python",
   "nbconvert_exporter": "python",
   "pygments_lexer": "ipython3",
   "version": "3.7.9"
  }
 },
 "nbformat": 4,
 "nbformat_minor": 5
}
